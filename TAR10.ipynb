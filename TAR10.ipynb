{
  "cells": [
    {
      "cell_type": "markdown",
      "metadata": {
        "id": "view-in-github",
        "colab_type": "text"
      },
      "source": [
        "<a href=\"https://colab.research.google.com/github/MouniriOuma/TAR-Feeling-Analysis-on-IMDB-Dataset-using-LSTM/blob/main/TAR10.ipynb\" target=\"_parent\"><img src=\"https://colab.research.google.com/assets/colab-badge.svg\" alt=\"Open In Colab\"/></a>"
      ]
    },
    {
      "cell_type": "code",
      "execution_count": null,
      "id": "b4719036-b057-401b-bbda-f9042e3113c1",
      "metadata": {
        "id": "b4719036-b057-401b-bbda-f9042e3113c1"
      },
      "outputs": [],
      "source": [
        "import pandas as pd\n",
        "import numpy as np\n",
        "from sklearn.model_selection import train_test_split\n",
        "import matplotlib.pyplot as plt"
      ]
    },
    {
      "cell_type": "code",
      "execution_count": null,
      "id": "7b8d0aa2-7059-4ca7-bf3d-d979f928f6df",
      "metadata": {
        "id": "7b8d0aa2-7059-4ca7-bf3d-d979f928f6df"
      },
      "outputs": [],
      "source": [
        "# Charger le dataset\n",
        "data = pd.read_csv(\"IMDB.csv\")"
      ]
    },
    {
      "cell_type": "code",
      "execution_count": null,
      "id": "a5f7e4c2-b7c5-4357-ba4a-dd198d0cd120",
      "metadata": {
        "id": "a5f7e4c2-b7c5-4357-ba4a-dd198d0cd120",
        "outputId": "44de59c2-1c63-4a84-94c2-c44b4714daf7"
      },
      "outputs": [
        {
          "name": "stdout",
          "output_type": "stream",
          "text": [
            "<bound method NDFrame.head of                                                   review sentiment\n",
            "0      One of the other reviewers has mentioned that ...  positive\n",
            "1      A wonderful little production. <br /><br />The...  positive\n",
            "2      I thought this was a wonderful way to spend ti...  positive\n",
            "3      Basically there's a family where a little boy ...  negative\n",
            "4      Petter Mattei's \"Love in the Time of Money\" is...  positive\n",
            "...                                                  ...       ...\n",
            "49995  I thought this movie did a down right good job...  positive\n",
            "49996  Bad plot, bad dialogue, bad acting, idiotic di...  negative\n",
            "49997  I am a Catholic taught in parochial elementary...  negative\n",
            "49998  I'm going to have to disagree with the previou...  negative\n",
            "49999  No one expects the Star Trek movies to be high...  negative\n",
            "\n",
            "[50000 rows x 2 columns]>\n"
          ]
        }
      ],
      "source": [
        "print(data.head)"
      ]
    },
    {
      "cell_type": "code",
      "execution_count": null,
      "id": "fc5defd5-f992-4e74-827c-a356170dfe97",
      "metadata": {
        "id": "fc5defd5-f992-4e74-827c-a356170dfe97"
      },
      "outputs": [],
      "source": [
        "# 3. Preprocess the Data\n",
        "# Rename columns for consistency\n",
        "data.columns = [\"text\", \"sentiment\"]"
      ]
    },
    {
      "cell_type": "code",
      "execution_count": null,
      "id": "5d10ecb5-d0f6-450d-94e4-638d47922c02",
      "metadata": {
        "id": "5d10ecb5-d0f6-450d-94e4-638d47922c02"
      },
      "outputs": [],
      "source": [
        "# Convert sentiment labels to binary: positive -> 1, negative -> 0\n",
        "data[\"sentiment\"] = data[\"sentiment\"].map({\"positive\": 1, \"negative\": 0})\n"
      ]
    },
    {
      "cell_type": "code",
      "execution_count": null,
      "id": "86fbc08e-ca01-461e-b4c5-9298614d94c8",
      "metadata": {
        "id": "86fbc08e-ca01-461e-b4c5-9298614d94c8"
      },
      "outputs": [],
      "source": [
        "# Drop duplicates and missing values\n",
        "data = data.drop_duplicates()\n",
        "data = data.dropna()"
      ]
    },
    {
      "cell_type": "code",
      "execution_count": null,
      "id": "3186cae3-8e07-42b7-b282-2bbd2062034f",
      "metadata": {
        "id": "3186cae3-8e07-42b7-b282-2bbd2062034f"
      },
      "outputs": [],
      "source": [
        "import nltk\n",
        "from nltk.corpus import stopwords"
      ]
    },
    {
      "cell_type": "code",
      "execution_count": null,
      "id": "0b4d8dd1-a089-46fe-b955-331fbf609ac8",
      "metadata": {
        "id": "0b4d8dd1-a089-46fe-b955-331fbf609ac8",
        "outputId": "ec956eb7-7e2a-4640-c95a-13f6e7b76d5a"
      },
      "outputs": [
        {
          "name": "stderr",
          "output_type": "stream",
          "text": [
            "[nltk_data] Downloading package stopwords to\n",
            "[nltk_data]     C:\\Users\\Mouma\\AppData\\Roaming\\nltk_data...\n",
            "[nltk_data]   Package stopwords is already up-to-date!\n"
          ]
        },
        {
          "data": {
            "text/plain": [
              "True"
            ]
          },
          "execution_count": 29,
          "metadata": {},
          "output_type": "execute_result"
        }
      ],
      "source": [
        "# Download NLTK stopwords\n",
        "nltk.download('stopwords')"
      ]
    },
    {
      "cell_type": "code",
      "execution_count": null,
      "id": "61ef21ae-c7a6-45a8-9079-d4c4669035e4",
      "metadata": {
        "id": "61ef21ae-c7a6-45a8-9079-d4c4669035e4"
      },
      "outputs": [],
      "source": [
        "# 4. Text Cleaning\n",
        "stop_words = set(stopwords.words('english'))"
      ]
    },
    {
      "cell_type": "code",
      "execution_count": null,
      "id": "f5853f4f-1240-4064-868e-af74ff921a66",
      "metadata": {
        "id": "f5853f4f-1240-4064-868e-af74ff921a66"
      },
      "outputs": [],
      "source": [
        "import re"
      ]
    },
    {
      "cell_type": "code",
      "execution_count": null,
      "id": "79d23521-dec7-441c-931e-69a024bdc574",
      "metadata": {
        "id": "79d23521-dec7-441c-931e-69a024bdc574"
      },
      "outputs": [],
      "source": [
        "def clean_text(text):\n",
        "    text = text.lower()\n",
        "    text = re.sub(r\"http\\S+|www\\S+|https\\S+\", '', text)\n",
        "    text = re.sub(r\"[^a-zA-Z\\s]\", '', text)\n",
        "    text = re.sub(r\"\\s+\", ' ', text).strip()\n",
        "    text = re.sub(r'\\@w+|\\#', '', text)\n",
        "    words = text.split()\n",
        "    filtered_words = [word for word in words if word not in stop_words]\n",
        "    return ' '.join(filtered_words)"
      ]
    },
    {
      "cell_type": "code",
      "execution_count": null,
      "id": "c6b3f4ce-1a21-42cd-821c-ca99dc656d54",
      "metadata": {
        "id": "c6b3f4ce-1a21-42cd-821c-ca99dc656d54"
      },
      "outputs": [],
      "source": [
        "# Apply cleaning to the text column\n",
        "data[\"text\"] = data[\"text\"].apply(clean_text)"
      ]
    },
    {
      "cell_type": "code",
      "execution_count": null,
      "id": "5ad66849-697c-4672-a3c6-b58be1c8a8cd",
      "metadata": {
        "id": "5ad66849-697c-4672-a3c6-b58be1c8a8cd"
      },
      "outputs": [],
      "source": [
        "# 5. Tokenization and Padding\n",
        "max_words = 5000  # Maximum number of words in the vocabulary\n",
        "max_len = 100     # Maximum length of sequences (adjust based on dataset)"
      ]
    },
    {
      "cell_type": "code",
      "execution_count": null,
      "id": "8a9c3971-da3b-4652-8f92-e49f44d51de6",
      "metadata": {
        "id": "8a9c3971-da3b-4652-8f92-e49f44d51de6"
      },
      "outputs": [],
      "source": [
        "from tensorflow.keras.preprocessing.text import Tokenizer\n",
        "from tensorflow.keras.preprocessing.sequence import pad_sequences\n",
        "from tensorflow.keras.models import Sequential\n",
        "from tensorflow.keras.layers import Embedding, LSTM, Dense"
      ]
    },
    {
      "cell_type": "code",
      "execution_count": null,
      "id": "c7fdc82e-d4ce-42da-8359-6fc8927f9e1f",
      "metadata": {
        "id": "c7fdc82e-d4ce-42da-8359-6fc8927f9e1f"
      },
      "outputs": [],
      "source": [
        "# Initialize tokenizer\n",
        "tokenizer = Tokenizer(num_words=max_words, oov_token=\"<OOV>\")\n",
        "tokenizer.fit_on_texts(data[\"text\"])\n",
        "\n",
        "# Convert text to sequences\n",
        "sequences = tokenizer.texts_to_sequences(data[\"text\"])\n",
        "\n",
        "# Apply padding\n",
        "padded_sequences = pad_sequences(sequences, maxlen=max_len, padding=\"post\", truncating=\"post\")"
      ]
    },
    {
      "cell_type": "code",
      "execution_count": null,
      "id": "dafd01e8-6a66-4948-ba98-b50b5b504195",
      "metadata": {
        "id": "dafd01e8-6a66-4948-ba98-b50b5b504195"
      },
      "outputs": [],
      "source": [
        "# 6. Split the Data\n",
        "X_train, X_test, y_train, y_test = train_test_split(padded_sequences, data[\"sentiment\"].values, test_size=0.2, random_state=42)"
      ]
    },
    {
      "cell_type": "code",
      "execution_count": null,
      "id": "d8384378-25c9-4f37-b6c6-f37ba1068159",
      "metadata": {
        "id": "d8384378-25c9-4f37-b6c6-f37ba1068159",
        "outputId": "45cb98f2-be7a-4383-c4f7-f49e03a54541"
      },
      "outputs": [
        {
          "name": "stderr",
          "output_type": "stream",
          "text": [
            "C:\\Users\\Mouma\\anaconda3\\Lib\\site-packages\\keras\\src\\layers\\core\\embedding.py:90: UserWarning: Argument `input_length` is deprecated. Just remove it.\n",
            "  warnings.warn(\n"
          ]
        },
        {
          "data": {
            "text/html": [
              "<pre style=\"white-space:pre;overflow-x:auto;line-height:normal;font-family:Menlo,'DejaVu Sans Mono',consolas,'Courier New',monospace\"><span style=\"font-weight: bold\">Model: \"sequential\"</span>\n",
              "</pre>\n"
            ],
            "text/plain": [
              "\u001b[1mModel: \"sequential\"\u001b[0m\n"
            ]
          },
          "metadata": {},
          "output_type": "display_data"
        },
        {
          "data": {
            "text/html": [
              "<pre style=\"white-space:pre;overflow-x:auto;line-height:normal;font-family:Menlo,'DejaVu Sans Mono',consolas,'Courier New',monospace\">┏━━━━━━━━━━━━━━━━━━━━━━━━━━━━━━━━━┳━━━━━━━━━━━━━━━━━━━━━━━━┳━━━━━━━━━━━━━━━┓\n",
              "┃<span style=\"font-weight: bold\"> Layer (type)                    </span>┃<span style=\"font-weight: bold\"> Output Shape           </span>┃<span style=\"font-weight: bold\">       Param # </span>┃\n",
              "┡━━━━━━━━━━━━━━━━━━━━━━━━━━━━━━━━━╇━━━━━━━━━━━━━━━━━━━━━━━━╇━━━━━━━━━━━━━━━┩\n",
              "│ embedding (<span style=\"color: #0087ff; text-decoration-color: #0087ff\">Embedding</span>)           │ ?                      │   <span style=\"color: #00af00; text-decoration-color: #00af00\">0</span> (unbuilt) │\n",
              "├─────────────────────────────────┼────────────────────────┼───────────────┤\n",
              "│ lstm (<span style=\"color: #0087ff; text-decoration-color: #0087ff\">LSTM</span>)                     │ ?                      │   <span style=\"color: #00af00; text-decoration-color: #00af00\">0</span> (unbuilt) │\n",
              "├─────────────────────────────────┼────────────────────────┼───────────────┤\n",
              "│ dense (<span style=\"color: #0087ff; text-decoration-color: #0087ff\">Dense</span>)                   │ ?                      │   <span style=\"color: #00af00; text-decoration-color: #00af00\">0</span> (unbuilt) │\n",
              "└─────────────────────────────────┴────────────────────────┴───────────────┘\n",
              "</pre>\n"
            ],
            "text/plain": [
              "┏━━━━━━━━━━━━━━━━━━━━━━━━━━━━━━━━━┳━━━━━━━━━━━━━━━━━━━━━━━━┳━━━━━━━━━━━━━━━┓\n",
              "┃\u001b[1m \u001b[0m\u001b[1mLayer (type)                   \u001b[0m\u001b[1m \u001b[0m┃\u001b[1m \u001b[0m\u001b[1mOutput Shape          \u001b[0m\u001b[1m \u001b[0m┃\u001b[1m \u001b[0m\u001b[1m      Param #\u001b[0m\u001b[1m \u001b[0m┃\n",
              "┡━━━━━━━━━━━━━━━━━━━━━━━━━━━━━━━━━╇━━━━━━━━━━━━━━━━━━━━━━━━╇━━━━━━━━━━━━━━━┩\n",
              "│ embedding (\u001b[38;5;33mEmbedding\u001b[0m)           │ ?                      │   \u001b[38;5;34m0\u001b[0m (unbuilt) │\n",
              "├─────────────────────────────────┼────────────────────────┼───────────────┤\n",
              "│ lstm (\u001b[38;5;33mLSTM\u001b[0m)                     │ ?                      │   \u001b[38;5;34m0\u001b[0m (unbuilt) │\n",
              "├─────────────────────────────────┼────────────────────────┼───────────────┤\n",
              "│ dense (\u001b[38;5;33mDense\u001b[0m)                   │ ?                      │   \u001b[38;5;34m0\u001b[0m (unbuilt) │\n",
              "└─────────────────────────────────┴────────────────────────┴───────────────┘\n"
            ]
          },
          "metadata": {},
          "output_type": "display_data"
        },
        {
          "data": {
            "text/html": [
              "<pre style=\"white-space:pre;overflow-x:auto;line-height:normal;font-family:Menlo,'DejaVu Sans Mono',consolas,'Courier New',monospace\"><span style=\"font-weight: bold\"> Total params: </span><span style=\"color: #00af00; text-decoration-color: #00af00\">0</span> (0.00 B)\n",
              "</pre>\n"
            ],
            "text/plain": [
              "\u001b[1m Total params: \u001b[0m\u001b[38;5;34m0\u001b[0m (0.00 B)\n"
            ]
          },
          "metadata": {},
          "output_type": "display_data"
        },
        {
          "data": {
            "text/html": [
              "<pre style=\"white-space:pre;overflow-x:auto;line-height:normal;font-family:Menlo,'DejaVu Sans Mono',consolas,'Courier New',monospace\"><span style=\"font-weight: bold\"> Trainable params: </span><span style=\"color: #00af00; text-decoration-color: #00af00\">0</span> (0.00 B)\n",
              "</pre>\n"
            ],
            "text/plain": [
              "\u001b[1m Trainable params: \u001b[0m\u001b[38;5;34m0\u001b[0m (0.00 B)\n"
            ]
          },
          "metadata": {},
          "output_type": "display_data"
        },
        {
          "data": {
            "text/html": [
              "<pre style=\"white-space:pre;overflow-x:auto;line-height:normal;font-family:Menlo,'DejaVu Sans Mono',consolas,'Courier New',monospace\"><span style=\"font-weight: bold\"> Non-trainable params: </span><span style=\"color: #00af00; text-decoration-color: #00af00\">0</span> (0.00 B)\n",
              "</pre>\n"
            ],
            "text/plain": [
              "\u001b[1m Non-trainable params: \u001b[0m\u001b[38;5;34m0\u001b[0m (0.00 B)\n"
            ]
          },
          "metadata": {},
          "output_type": "display_data"
        }
      ],
      "source": [
        "# 7. Build the Model\n",
        "model = Sequential([\n",
        "    Embedding(input_dim=max_words, output_dim=64, input_length=max_len),\n",
        "    LSTM(64, return_sequences=False),\n",
        "    Dense(1, activation='sigmoid')\n",
        "])\n",
        "\n",
        "# Compile the model\n",
        "model.compile(optimizer='adam', loss='binary_crossentropy', metrics=['accuracy'])\n",
        "\n",
        "# Print model summary\n",
        "model.summary()"
      ]
    },
    {
      "cell_type": "code",
      "execution_count": null,
      "id": "57de278f-06d8-4335-8a60-6b235e95cd68",
      "metadata": {
        "id": "57de278f-06d8-4335-8a60-6b235e95cd68",
        "outputId": "1f574e4c-ed3a-4031-a535-edf0e0ead441"
      },
      "outputs": [
        {
          "name": "stdout",
          "output_type": "stream",
          "text": [
            "Epoch 1/5\n",
            "\u001b[1m1240/1240\u001b[0m \u001b[32m━━━━━━━━━━━━━━━━━━━━\u001b[0m\u001b[37m\u001b[0m \u001b[1m201s\u001b[0m 153ms/step - accuracy: 0.5565 - loss: 0.6773 - val_accuracy: 0.7600 - val_loss: 0.5425\n",
            "Epoch 2/5\n",
            "\u001b[1m1240/1240\u001b[0m \u001b[32m━━━━━━━━━━━━━━━━━━━━\u001b[0m\u001b[37m\u001b[0m \u001b[1m193s\u001b[0m 156ms/step - accuracy: 0.6562 - loss: 0.6239 - val_accuracy: 0.6006 - val_loss: 0.6475\n",
            "Epoch 3/5\n",
            "\u001b[1m1240/1240\u001b[0m \u001b[32m━━━━━━━━━━━━━━━━━━━━\u001b[0m\u001b[37m\u001b[0m \u001b[1m193s\u001b[0m 156ms/step - accuracy: 0.7214 - loss: 0.5573 - val_accuracy: 0.8365 - val_loss: 0.3765\n",
            "Epoch 4/5\n",
            "\u001b[1m1240/1240\u001b[0m \u001b[32m━━━━━━━━━━━━━━━━━━━━\u001b[0m\u001b[37m\u001b[0m \u001b[1m192s\u001b[0m 155ms/step - accuracy: 0.8663 - loss: 0.3276 - val_accuracy: 0.8620 - val_loss: 0.3277\n",
            "Epoch 5/5\n",
            "\u001b[1m1240/1240\u001b[0m \u001b[32m━━━━━━━━━━━━━━━━━━━━\u001b[0m\u001b[37m\u001b[0m \u001b[1m178s\u001b[0m 143ms/step - accuracy: 0.8973 - loss: 0.2612 - val_accuracy: 0.8523 - val_loss: 0.3533\n"
          ]
        }
      ],
      "source": [
        "# 8. Train the Model\n",
        "history = model.fit(X_train, y_train, epochs=5, validation_data=(X_test, y_test), batch_size=32, verbose=1)"
      ]
    },
    {
      "cell_type": "code",
      "execution_count": null,
      "id": "c4f04e15-308c-4db2-a22a-64fb30d8f47d",
      "metadata": {
        "id": "c4f04e15-308c-4db2-a22a-64fb30d8f47d"
      },
      "outputs": [],
      "source": [
        "from sklearn.metrics import classification_report"
      ]
    },
    {
      "cell_type": "code",
      "execution_count": null,
      "id": "f022fd74-9f7c-4f1a-9582-539bd706a932",
      "metadata": {
        "id": "f022fd74-9f7c-4f1a-9582-539bd706a932",
        "outputId": "7844c1c4-3ce6-4940-de54-91d6d691df37"
      },
      "outputs": [
        {
          "name": "stdout",
          "output_type": "stream",
          "text": [
            "\u001b[1m310/310\u001b[0m \u001b[32m━━━━━━━━━━━━━━━━━━━━\u001b[0m\u001b[37m\u001b[0m \u001b[1m5s\u001b[0m 14ms/step\n",
            "              precision    recall  f1-score   support\n",
            "\n",
            "           0       0.81      0.91      0.86      4939\n",
            "           1       0.90      0.79      0.84      4978\n",
            "\n",
            "    accuracy                           0.85      9917\n",
            "   macro avg       0.86      0.85      0.85      9917\n",
            "weighted avg       0.86      0.85      0.85      9917\n",
            "\n"
          ]
        }
      ],
      "source": [
        "# 9. Evaluate the Model\n",
        "y_pred = (model.predict(X_test) > 0.5).astype(\"int32\")\n",
        "print(classification_report(y_test, y_pred))"
      ]
    },
    {
      "cell_type": "code",
      "execution_count": null,
      "id": "03e60225-af60-480a-baa2-55ab6fc1745b",
      "metadata": {
        "id": "03e60225-af60-480a-baa2-55ab6fc1745b"
      },
      "outputs": [],
      "source": [
        "# 10. Predict Sentiment for New Text\n",
        "def predict_sentiment(model, tokenizer, text):\n",
        "    cleaned_text = clean_text(text)\n",
        "    sequence = tokenizer.texts_to_sequences([cleaned_text])\n",
        "    padded_sequence = pad_sequences(sequence, maxlen=max_len, padding=\"post\", truncating=\"post\")\n",
        "    prediction = model.predict(padded_sequence)\n",
        "    return \"Positive\" if prediction[0] > 0.5 else \"Negative\""
      ]
    },
    {
      "cell_type": "code",
      "execution_count": null,
      "id": "f573932d-e99f-4d2b-a390-3aa7cf7d1a92",
      "metadata": {
        "id": "f573932d-e99f-4d2b-a390-3aa7cf7d1a92",
        "outputId": "2ccda616-1759-4db1-8769-702afd821350"
      },
      "outputs": [
        {
          "name": "stdout",
          "output_type": "stream",
          "text": [
            "\u001b[1m1/1\u001b[0m \u001b[32m━━━━━━━━━━━━━━━━━━━━\u001b[0m\u001b[37m\u001b[0m \u001b[1m0s\u001b[0m 50ms/step\n",
            "Positive\n"
          ]
        }
      ],
      "source": [
        "# Example usage\n",
        "new_review = \"This movie was fantastic! I loved every moment of it.\"\n",
        "print(predict_sentiment(model, tokenizer, new_review))"
      ]
    },
    {
      "cell_type": "code",
      "execution_count": null,
      "id": "43e94e50-5534-4391-a9fe-77b10bedbbf3",
      "metadata": {
        "id": "43e94e50-5534-4391-a9fe-77b10bedbbf3",
        "outputId": "918fbaf6-ca1c-46ed-818f-1d7330b59c7b"
      },
      "outputs": [
        {
          "name": "stdout",
          "output_type": "stream",
          "text": [
            "\u001b[1m1/1\u001b[0m \u001b[32m━━━━━━━━━━━━━━━━━━━━\u001b[0m\u001b[37m\u001b[0m \u001b[1m0s\u001b[0m 72ms/step\n",
            "Negative\n"
          ]
        }
      ],
      "source": [
        "# Example usage\n",
        "new_review = \"This movie was bad! I hated every moment of it.\"\n",
        "print(predict_sentiment(model, tokenizer, new_review))"
      ]
    },
    {
      "cell_type": "code",
      "execution_count": null,
      "id": "63074f58-7d97-45d6-b2e3-58e686fb1544",
      "metadata": {
        "id": "63074f58-7d97-45d6-b2e3-58e686fb1544"
      },
      "outputs": [],
      "source": []
    }
  ],
  "metadata": {
    "kernelspec": {
      "display_name": "Python 3 (ipykernel)",
      "language": "python",
      "name": "python3"
    },
    "language_info": {
      "codemirror_mode": {
        "name": "ipython",
        "version": 3
      },
      "file_extension": ".py",
      "mimetype": "text/x-python",
      "name": "python",
      "nbconvert_exporter": "python",
      "pygments_lexer": "ipython3",
      "version": "3.12.4"
    },
    "colab": {
      "provenance": [],
      "include_colab_link": true
    }
  },
  "nbformat": 4,
  "nbformat_minor": 5
}